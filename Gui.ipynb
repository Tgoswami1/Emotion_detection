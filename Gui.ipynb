{
 "cells": [
  {
   "cell_type": "code",
   "execution_count": 1,
   "id": "b591fbbe-5f1e-4e0a-9a3a-3375e7588edc",
   "metadata": {},
   "outputs": [],
   "source": [
    "import tkinter as tk\n",
    "from tkinter import filedialog\n",
    "from tkinter import *\n",
    "from tensorflow.keras.models import model_from_json\n",
    "from PIL import Image, ImageTk\n",
    "import numpy as np\n",
    "import cv2"
   ]
  },
  {
   "cell_type": "code",
   "execution_count": 2,
   "id": "9d2ac243-e013-46e2-a35e-538cade1b185",
   "metadata": {},
   "outputs": [],
   "source": [
    "def FacialExpressionModel(json_file, weights_file):\n",
    "    with open(json_file,\"r\") as file:\n",
    "        loaded_model_json = file.read()\n",
    "        model = model_from_json(loaded_model_json)\n",
    "\n",
    "    model.load_weights(weights_file)\n",
    "    model.compile(optimizer ='adam', loss='categorical_crossentropy', metrics = ['accuracy'])\n",
    "\n",
    "    return model"
   ]
  },
  {
   "cell_type": "code",
   "execution_count": 3,
   "id": "369fd152-9f21-430d-9911-1c66223c9836",
   "metadata": {},
   "outputs": [],
   "source": [
    "top =tk.Tk()\n",
    "top.geometry('800x600')\n",
    "top.title('Emotion Detector')\n",
    "top.configure(background='#CDCDCD')\n",
    "\n",
    "label1 = Label(top, background='#CDCDCD', font=('arial',15,'bold'))\n",
    "sign_image = Label(top)\n",
    "\n",
    "facec = cv2.CascadeClassifier('haarcascade_frontalface_default.xml')\n",
    "model = FacialExpressionModel(\"model_a.json\",\"model_weight.h5\")\n"
   ]
  },
  {
   "cell_type": "code",
   "execution_count": 4,
   "id": "c704ff5b-df40-4aa7-8f4f-8455deb22d24",
   "metadata": {},
   "outputs": [],
   "source": [
    "EMOTIONS_LIST = [\"Angry\",\"Disgust\",\"Fear\",\"Happy\",\"Neutral\",\"Sad\",\"Surprise\"]\n",
    "\n",
    "def Detect(file_path):\n",
    "    global Label_packed\n",
    "\n",
    "    image = cv2.imread(file_path)\n",
    "    gray_image = cv2.cvtColor(image,cv2.COLOR_BGR2GRAY)\n",
    "    faces = facec.detectMultiScale(gray_image,1.3,5)\n",
    "    try:\n",
    "        for (x,y,w,h) in faces:\n",
    "            fc = gray_image[y:y+h,x:x+w]\n",
    "            roi = cv2.resize(fc,(48,48))\n",
    "            pred = EMOTIONS_LIST[np.argmax(model.predict(roi[np.newaxis,:,:,np.newaxis]))]\n",
    "        print(\"Predicted Emotion is\" + pred)\n",
    "        label1.configure(foreground=\"#011638\",text = pred)\n",
    "    except:\n",
    "        label1.configure(foreground=\"#011638\",text = \"Unable to detect\")\n"
   ]
  },
  {
   "cell_type": "code",
   "execution_count": 5,
   "id": "96570089-8aa2-4548-8264-3b04c538e3d8",
   "metadata": {},
   "outputs": [],
   "source": [
    "def show_Detect_button(file_path):\n",
    "    detect_b = Button(top,text=\"Detect Emotion\", command= lambda: Detect(file_path),padx=10,pady=5)\n",
    "    detect_b.configure(background=\"#364156\",foreground='white',font=('arial',10,'bold'))\n",
    "    detect_b.place(relx =0.79,rely=0.46)\n",
    "\n",
    "\n"
   ]
  },
  {
   "cell_type": "code",
   "execution_count": null,
   "id": "8ccf25bb-a06e-4377-ac99-9a940d261c8a",
   "metadata": {},
   "outputs": [],
   "source": [
    "def upload_image():\n",
    "    try:\n",
    "        file_path = filedialog.askopenfilename()\n",
    "        uploaded = Image.open(file_path)\n",
    "        uploaded.thumbnail(((top.winfo_width()/2.25), (top.winfo_height()/2.25)))\n",
    "        im = ImageTk.PhotoImage(uploaded)\n",
    "\n",
    "        sign_image.configure(image=im)\n",
    "        sign_image.image = im\n",
    "        label1.configure(text='')\n",
    "        show_Detect_button(file_path)\n",
    "    except:\n",
    "        pass\n",
    "\n",
    "upload = Button(top, text=\"Upload Image\", command=upload_image, padx=10, pady=5)\n",
    "upload.configure(background=\"#364156\",foreground='white',font=('arial',20,'bold'))\n",
    "upload.pack(side='bottom',pady=50)\n",
    "sign_image.pack(side='bottom', expand='True')\n",
    "label1.pack(side='bottom', expand='True')\n",
    "heading = Label(top,text='Emotion Detector',pady=20,font=('arial',25,'bold'))\n",
    "heading.configure(background='#CDCDCD',foreground=\"#364156\")\n",
    "heading.pack()\n",
    "top.mainloop()"
   ]
  },
  {
   "cell_type": "code",
   "execution_count": null,
   "id": "6301ebed-1cf5-4498-a311-2dfd7d5ab7c1",
   "metadata": {},
   "outputs": [],
   "source": []
  }
 ],
 "metadata": {
  "kernelspec": {
   "display_name": "Python 3 (ipykernel)",
   "language": "python",
   "name": "python3"
  },
  "language_info": {
   "codemirror_mode": {
    "name": "ipython",
    "version": 3
   },
   "file_extension": ".py",
   "mimetype": "text/x-python",
   "name": "python",
   "nbconvert_exporter": "python",
   "pygments_lexer": "ipython3",
   "version": "3.8.18"
  }
 },
 "nbformat": 4,
 "nbformat_minor": 5
}
